{
 "cells": [
  {
   "cell_type": "code",
   "execution_count": 1,
   "metadata": {},
   "outputs": [],
   "source": [
    "from Healthhub.healthhub import healthhub\n",
    "# from healthhub import dicom"
   ]
  },
  {
   "cell_type": "code",
   "execution_count": 2,
   "metadata": {},
   "outputs": [],
   "source": [
    "hh=healthhub()"
   ]
  },
  {
   "cell_type": "code",
   "execution_count": 3,
   "metadata": {},
   "outputs": [
    {
     "name": "stderr",
     "output_type": "stream",
     "text": [
      "100%|██████████| 313/313 [00:07<00:00, 44.06it/s]\n",
      "100%|██████████| 9/9 [00:04<00:00,  2.05it/s]\n"
     ]
    }
   ],
   "source": [
    "scan,ds=hh.dicom.read.scan(\"/home/usman/MServer/rabeea/CT_data/00004449_20160326/\")"
   ]
  },
  {
   "cell_type": "code",
   "execution_count": 1,
   "metadata": {},
   "outputs": [
    {
     "name": "stdout",
     "output_type": "stream",
     "text": [
      "Collecting pdoc3\n",
      "  Downloading pdoc3-0.10.0-py3-none-any.whl (135 kB)\n",
      "\u001b[K     |████████████████████████████████| 135 kB 20.6 MB/s eta 0:00:01\n",
      "\u001b[?25hRequirement already satisfied: markdown>=3.0 in /home/azka/anaconda3/envs/mongo3/lib/python3.8/site-packages (from pdoc3) (3.3.2)\n",
      "Collecting mako\n",
      "  Downloading Mako-1.2.1-py3-none-any.whl (78 kB)\n",
      "\u001b[K     |████████████████████████████████| 78 kB 1.4 MB/s  eta 0:00:011\n",
      "\u001b[?25hRequirement already satisfied: MarkupSafe>=0.9.2 in /home/azka/anaconda3/envs/mongo3/lib/python3.8/site-packages (from mako->pdoc3) (1.1.1)\n",
      "Installing collected packages: mako, pdoc3\n",
      "Successfully installed mako-1.2.1 pdoc3-0.10.0\n"
     ]
    }
   ],
   "source": [
    "!pip install pdoc3"
   ]
  },
  {
   "cell_type": "code",
   "execution_count": 11,
   "metadata": {},
   "outputs": [
    {
     "name": "stdout",
     "output_type": "stream",
     "text": [
      "/home/azka/anaconda3/envs/mongo3/lib/python3.8/site-packages/skimage/feature/_orb_descriptor_positions.py:8: DeprecationWarning: loadtxt(): Parsing an integer via a float is deprecated.  To avoid this warning, you can:\n",
      "    * make sure the original data is stored as integers.\n",
      "    * use the `converters=` keyword argument.  If you only use\n",
      "      NumPy 1.23 or later, `converters=float` will normally work.\n",
      "    * Use `np.loadtxt(...).astype(np.int64)` parsing the file as\n",
      "      floating point and then convert it.  (On all NumPy versions.)\n",
      "  (Deprecated NumPy 1.23)\n",
      "  POS = np.loadtxt(os.path.join(this_dir, \"orb_descriptor_positions.txt\"),\n",
      "/home/azka/final/temp/Healthhub/index.html\n",
      "/home/azka/final/temp/Healthhub/healthhub.html\n"
     ]
    }
   ],
   "source": [
    "!pdoc /home/azka/final/Healthhub/ --html --output-dir /home/azka/final/temp/"
   ]
  },
  {
   "cell_type": "code",
   "execution_count": 5,
   "metadata": {},
   "outputs": [
    {
     "name": "stdout",
     "output_type": "stream",
     "text": [
      "usage: pdoc [-h] [--version] [-c OPTION=VALUE] [--filter STRING] [-f]\r\n",
      "            [--html | --pdf] [-o DIR] [--template-dir DIR] [--close-stdin]\r\n",
      "            [--http HOST:PORT] [--skip-errors]\r\n",
      "            MODULE [MODULE ...]\r\n",
      "\r\n",
      "Automatically generate API docs for Python modules.\r\n",
      "\r\n",
      "positional arguments:\r\n",
      "  MODULE                The Python module name. This may be an import path\r\n",
      "                        resolvable in the current environment, or a file path\r\n",
      "                        to a Python module or package.\r\n",
      "\r\n",
      "optional arguments:\r\n",
      "  -h, --help            show this help message and exit\r\n",
      "  --version             show program's version number and exit\r\n",
      "  -c OPTION=VALUE, --config OPTION=VALUE\r\n",
      "                        Override template options. This is an alternative to\r\n",
      "                        using a custom config.mako file in --template-dir.\r\n",
      "                        This option can be specified multiple times.\r\n",
      "  --filter STRING       Comma-separated list of filters. When specified, only\r\n",
      "                        identifiers containing the specified string will be\r\n",
      "                        shown in the output. Search is case sensitive. Has no\r\n",
      "                        effect when --http is set.\r\n",
      "  -f, --force           Overwrite any existing generated (--output-dir) files.\r\n",
      "  --html                When set, the output will be HTML formatted.\r\n",
      "  --pdf                 When set, the specified modules will be printed to\r\n",
      "                        standard output, formatted in Markdown-Extra,\r\n",
      "                        compatible with most Markdown-(to-HTML-)to-PDF\r\n",
      "                        converters.\r\n",
      "  -o DIR, --output-dir DIR\r\n",
      "                        The directory to output generated HTML/markdown files\r\n",
      "                        to (default: ./html for --html).\r\n",
      "  --template-dir DIR    Specify a directory containing Mako templates\r\n",
      "                        (html.mako, text.mako, config.mako and/or any\r\n",
      "                        templates they include). Alternatively, put your\r\n",
      "                        templates in $XDG_CONFIG_HOME/pdoc and pdoc will\r\n",
      "                        automatically find them.\r\n",
      "  --close-stdin         When set, stdin will be closed before importing, to\r\n",
      "                        account for ill-behaved modules that block on stdin.\r\n",
      "  --http HOST:PORT      When set, pdoc will run as an HTTP server providing\r\n",
      "                        documentation for specified modules. If you just want\r\n",
      "                        to use the default hostname and port (localhost:8080),\r\n",
      "                        set the parameter to :.\r\n",
      "  --skip-errors         Upon unimportable modules, warn instead of raising.\r\n",
      "\r\n",
      "Further documentation is available at <https://pdoc3.github.io/pdoc/doc>.\r\n"
     ]
    }
   ],
   "source": [
    "!pdoc --help"
   ]
  },
  {
   "cell_type": "code",
   "execution_count": null,
   "metadata": {},
   "outputs": [],
   "source": []
  }
 ],
 "metadata": {
  "kernelspec": {
   "display_name": "Python 3",
   "language": "python",
   "name": "python3"
  },
  "language_info": {
   "codemirror_mode": {
    "name": "ipython",
    "version": 3
   },
   "file_extension": ".py",
   "mimetype": "text/x-python",
   "name": "python",
   "nbconvert_exporter": "python",
   "pygments_lexer": "ipython3",
   "version": "3.8.5"
  }
 },
 "nbformat": 4,
 "nbformat_minor": 4
}
